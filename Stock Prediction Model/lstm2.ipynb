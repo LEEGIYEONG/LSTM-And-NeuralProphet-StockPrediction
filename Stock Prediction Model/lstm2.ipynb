{
 "cells": [
  {
   "cell_type": "code",
   "execution_count": 1,
   "metadata": {},
   "outputs": [],
   "source": [
    "import numpy as np \n",
    "import pandas as pd \n",
    "import FinanceDataReader as fdr\n",
    "import matplotlib.pyplot as plt \n",
    "\n",
    "import datetime \n",
    "\n",
    "import torch \n",
    "import torch.nn as nn \n",
    "from torch.autograd import Variable \n",
    "\n",
    "import torch.optim as optim \n",
    "from torch.utils.data import Dataset, DataLoader"
   ]
  },
  {
   "cell_type": "code",
   "execution_count": 2,
   "metadata": {},
   "outputs": [
    {
     "data": {
      "text/plain": [
       "<AxesSubplot:xlabel='Date'>"
      ]
     },
     "execution_count": 2,
     "metadata": {},
     "output_type": "execute_result"
    }
   ],
   "source": [
    "df = fdr.DataReader('KS11')\n",
    "df['Close'].plot()"
   ]
  },
  {
   "cell_type": "code",
   "execution_count": 3,
   "metadata": {},
   "outputs": [
    {
     "name": "stdout",
     "output_type": "stream",
     "text": [
      "              Close     Open     High      Low\n",
      "Date                                          \n",
      "1981-05-01   123.60   123.60   123.60   123.60\n",
      "1981-05-02   123.50   123.50   123.50   123.50\n",
      "1981-05-04   120.60   120.60   120.60   120.60\n",
      "1981-05-06   120.70   120.70   120.70   120.70\n",
      "1981-05-07   119.30   119.30   119.30   119.30\n",
      "...             ...      ...      ...      ...\n",
      "2021-09-17  3140.51  3127.75  3142.13  3112.51\n",
      "2021-09-23  3127.58  3123.64  3131.63  3107.98\n",
      "2021-09-24  3125.24  3140.73  3146.86  3119.40\n",
      "2021-09-27  3133.64  3121.70  3146.35  3119.26\n",
      "2021-09-28  3097.92  3133.40  3134.46  3095.72\n",
      "\n",
      "[10795 rows x 4 columns]\n",
      "            Change\n",
      "Date              \n",
      "1981-05-01  0.0098\n",
      "1981-05-02 -0.0008\n",
      "1981-05-04 -0.0235\n",
      "1981-05-06  0.0008\n",
      "1981-05-07 -0.0116\n",
      "...            ...\n",
      "2021-09-17  0.0033\n",
      "2021-09-23 -0.0041\n",
      "2021-09-24 -0.0007\n",
      "2021-09-27  0.0027\n",
      "2021-09-28 -0.0114\n",
      "\n",
      "[10795 rows x 1 columns]\n"
     ]
    }
   ],
   "source": [
    "X = df.drop(columns=['Volume','Change'])\n",
    "y = df.iloc[:, 5:6]\n",
    "\n",
    "print(X)\n",
    "print(y)"
   ]
  },
  {
   "cell_type": "code",
   "execution_count": 4,
   "metadata": {},
   "outputs": [
    {
     "name": "stdout",
     "output_type": "stream",
     "text": [
      "(7556, 1)\n",
      "(3239, 1)\n"
     ]
    }
   ],
   "source": [
    "data_training = pd.DataFrame(df['Close'][0:int(len(df)*0.70)])\n",
    "data_testing = pd.DataFrame(df['Close'][int(len(df)*0.70): int(len(df))])\n",
    "\n",
    "print(data_training.shape)\n",
    "print(data_testing.shape)"
   ]
  },
  {
   "cell_type": "code",
   "execution_count": 5,
   "metadata": {},
   "outputs": [],
   "source": [
    "from sklearn.preprocessing import MinMaxScaler\n",
    "scaler = MinMaxScaler(feature_range=(0,1))"
   ]
  },
  {
   "cell_type": "code",
   "execution_count": 6,
   "metadata": {},
   "outputs": [
    {
     "data": {
      "text/plain": [
       "array([[0.00898992],\n",
       "       [0.00893887],\n",
       "       [0.00745842],\n",
       "       ...,\n",
       "       [0.71807071],\n",
       "       [0.71006606],\n",
       "       [0.71272066]])"
      ]
     },
     "execution_count": 6,
     "metadata": {},
     "output_type": "execute_result"
    }
   ],
   "source": [
    "data_training_array = scaler.fit_transform(data_training)\n",
    "data_training_array"
   ]
  },
  {
   "cell_type": "code",
   "execution_count": 7,
   "metadata": {},
   "outputs": [],
   "source": [
    "x_train = []\n",
    "y_train = []\n",
    "\n",
    "for i in range(100, data_training_array.shape[0]):\n",
    "    x_train.append(data_training_array[i-100: i])\n",
    "    y_train.append(data_training_array[i, 0])\n",
    "    \n",
    "x_train, y_train = np.array(x_train), np.array(y_train)  "
   ]
  },
  {
   "cell_type": "code",
   "execution_count": 8,
   "metadata": {},
   "outputs": [],
   "source": [
    "from keras.layers import Dense, Dropout, LSTM\n",
    "from keras.models import Sequential"
   ]
  },
  {
   "cell_type": "code",
   "execution_count": 9,
   "metadata": {},
   "outputs": [],
   "source": [
    "model = Sequential()\n",
    "model.add(LSTM(units = 50, activation = 'relu', return_sequences = True,\n",
    "              input_shape = (x_train.shape[1], 1)))\n",
    "model.add(Dropout(0.2))\n",
    "\n",
    "\n",
    "model.add(LSTM(units = 60, activation = 'relu', return_sequences = True))\n",
    "model.add(Dropout(0.3))\n",
    "\n",
    "\n",
    "model.add(LSTM(units = 80, activation = 'relu', return_sequences = True))\n",
    "model.add(Dropout(0.4))\n",
    "\n",
    "model.add(LSTM(units = 120, activation = 'relu'))\n",
    "model.add(Dropout(0.5))\n",
    "\n",
    "model.add(Dense(units = 1))"
   ]
  },
  {
   "cell_type": "code",
   "execution_count": 10,
   "metadata": {},
   "outputs": [
    {
     "name": "stdout",
     "output_type": "stream",
     "text": [
      "Model: \"sequential\"\n",
      "_________________________________________________________________\n",
      "Layer (type)                 Output Shape              Param #   \n",
      "=================================================================\n",
      "lstm (LSTM)                  (None, 100, 50)           10400     \n",
      "_________________________________________________________________\n",
      "dropout (Dropout)            (None, 100, 50)           0         \n",
      "_________________________________________________________________\n",
      "lstm_1 (LSTM)                (None, 100, 60)           26640     \n",
      "_________________________________________________________________\n",
      "dropout_1 (Dropout)          (None, 100, 60)           0         \n",
      "_________________________________________________________________\n",
      "lstm_2 (LSTM)                (None, 100, 80)           45120     \n",
      "_________________________________________________________________\n",
      "dropout_2 (Dropout)          (None, 100, 80)           0         \n",
      "_________________________________________________________________\n",
      "lstm_3 (LSTM)                (None, 120)               96480     \n",
      "_________________________________________________________________\n",
      "dropout_3 (Dropout)          (None, 120)               0         \n",
      "_________________________________________________________________\n",
      "dense (Dense)                (None, 1)                 121       \n",
      "=================================================================\n",
      "Total params: 178,761\n",
      "Trainable params: 178,761\n",
      "Non-trainable params: 0\n",
      "_________________________________________________________________\n"
     ]
    }
   ],
   "source": [
    "model.summary()"
   ]
  },
  {
   "cell_type": "code",
   "execution_count": 15,
   "metadata": {
    "scrolled": false
   },
   "outputs": [
    {
     "name": "stdout",
     "output_type": "stream",
     "text": [
      "Epoch 1/50\n",
      "233/233 [==============================] - 22s 87ms/step - loss: 0.0013 - mae: 0.0254\n",
      "Epoch 2/50\n",
      "233/233 [==============================] - 20s 87ms/step - loss: 0.0013 - mae: 0.0250\n",
      "Epoch 3/50\n",
      "233/233 [==============================] - 20s 87ms/step - loss: 0.0013 - mae: 0.0251\n",
      "Epoch 4/50\n",
      "233/233 [==============================] - 20s 87ms/step - loss: 0.0013 - mae: 0.0253\n",
      "Epoch 5/50\n",
      "233/233 [==============================] - 20s 87ms/step - loss: 0.0013 - mae: 0.0251\n",
      "Epoch 6/50\n",
      "233/233 [==============================] - 20s 87ms/step - loss: 0.0012 - mae: 0.0240\n",
      "Epoch 7/50\n",
      "233/233 [==============================] - 20s 87ms/step - loss: 0.0013 - mae: 0.0249\n",
      "Epoch 8/50\n",
      "233/233 [==============================] - 20s 86ms/step - loss: 0.0013 - mae: 0.0251\n",
      "Epoch 9/50\n",
      "233/233 [==============================] - 20s 87ms/step - loss: 0.0013 - mae: 0.0249\n",
      "Epoch 10/50\n",
      "233/233 [==============================] - 20s 87ms/step - loss: 0.0013 - mae: 0.0247\n",
      "Epoch 11/50\n",
      "233/233 [==============================] - 20s 87ms/step - loss: 0.0012 - mae: 0.0242\n",
      "Epoch 12/50\n",
      "233/233 [==============================] - 20s 87ms/step - loss: 0.0013 - mae: 0.0251\n",
      "Epoch 13/50\n",
      "233/233 [==============================] - 20s 87ms/step - loss: 0.0013 - mae: 0.0254\n",
      "Epoch 14/50\n",
      "233/233 [==============================] - 20s 87ms/step - loss: 0.0013 - mae: 0.0245\n",
      "Epoch 15/50\n",
      "233/233 [==============================] - 20s 87ms/step - loss: 0.0013 - mae: 0.0250\n",
      "Epoch 16/50\n",
      "233/233 [==============================] - 20s 87ms/step - loss: 0.0012 - mae: 0.0242\n",
      "Epoch 17/50\n",
      "233/233 [==============================] - 20s 87ms/step - loss: 0.0013 - mae: 0.0247\n",
      "Epoch 18/50\n",
      "233/233 [==============================] - 20s 87ms/step - loss: 0.0012 - mae: 0.0240\n",
      "Epoch 19/50\n",
      "233/233 [==============================] - 20s 87ms/step - loss: 0.0013 - mae: 0.0250\n",
      "Epoch 20/50\n",
      "233/233 [==============================] - 20s 87ms/step - loss: 0.0012 - mae: 0.0244\n",
      "Epoch 21/50\n",
      "233/233 [==============================] - 20s 87ms/step - loss: 0.0012 - mae: 0.0242\n",
      "Epoch 22/50\n",
      "233/233 [==============================] - 20s 87ms/step - loss: 0.0012 - mae: 0.0237\n",
      "Epoch 23/50\n",
      "233/233 [==============================] - 20s 87ms/step - loss: 0.0013 - mae: 0.0249\n",
      "Epoch 24/50\n",
      "233/233 [==============================] - 20s 87ms/step - loss: 0.0012 - mae: 0.0238\n",
      "Epoch 25/50\n",
      "233/233 [==============================] - 20s 87ms/step - loss: 0.0012 - mae: 0.0239\n",
      "Epoch 26/50\n",
      "233/233 [==============================] - 20s 87ms/step - loss: 0.0013 - mae: 0.0245\n",
      "Epoch 27/50\n",
      "233/233 [==============================] - 20s 87ms/step - loss: 0.0013 - mae: 0.0246\n",
      "Epoch 28/50\n",
      "233/233 [==============================] - 20s 87ms/step - loss: 0.0012 - mae: 0.0241\n",
      "Epoch 29/50\n",
      "233/233 [==============================] - 20s 87ms/step - loss: 0.0012 - mae: 0.0242\n",
      "Epoch 30/50\n",
      "233/233 [==============================] - 20s 87ms/step - loss: 0.0013 - mae: 0.0245\n",
      "Epoch 31/50\n",
      "233/233 [==============================] - 20s 87ms/step - loss: 0.0012 - mae: 0.0237\n",
      "Epoch 32/50\n",
      "233/233 [==============================] - 20s 87ms/step - loss: 0.0013 - mae: 0.0245\n",
      "Epoch 33/50\n",
      "233/233 [==============================] - 20s 87ms/step - loss: 0.0012 - mae: 0.0241\n",
      "Epoch 34/50\n",
      "233/233 [==============================] - 20s 87ms/step - loss: 0.0012 - mae: 0.0240\n",
      "Epoch 35/50\n",
      "233/233 [==============================] - 20s 88ms/step - loss: 0.0012 - mae: 0.0242\n",
      "Epoch 36/50\n",
      "233/233 [==============================] - 20s 87ms/step - loss: 0.0012 - mae: 0.0239\n",
      "Epoch 37/50\n",
      "233/233 [==============================] - 21s 88ms/step - loss: 0.0012 - mae: 0.0243\n",
      "Epoch 38/50\n",
      "233/233 [==============================] - 20s 87ms/step - loss: 0.0012 - mae: 0.0238\n",
      "Epoch 39/50\n",
      "233/233 [==============================] - 20s 87ms/step - loss: 0.0012 - mae: 0.0244\n",
      "Epoch 40/50\n",
      "233/233 [==============================] - 20s 87ms/step - loss: 0.0013 - mae: 0.0248\n",
      "Epoch 41/50\n",
      "233/233 [==============================] - 20s 87ms/step - loss: 0.0013 - mae: 0.0246\n",
      "Epoch 42/50\n",
      "233/233 [==============================] - 20s 87ms/step - loss: 0.0012 - mae: 0.0244\n",
      "Epoch 43/50\n",
      "233/233 [==============================] - 20s 87ms/step - loss: 0.0012 - mae: 0.0238\n",
      "Epoch 44/50\n",
      "233/233 [==============================] - 20s 87ms/step - loss: 0.0013 - mae: 0.0241\n",
      "Epoch 45/50\n",
      "233/233 [==============================] - 20s 87ms/step - loss: 0.0013 - mae: 0.0247\n",
      "Epoch 46/50\n",
      "233/233 [==============================] - 20s 87ms/step - loss: 0.0012 - mae: 0.0238\n",
      "Epoch 47/50\n",
      "233/233 [==============================] - 20s 87ms/step - loss: 0.0012 - mae: 0.0239\n",
      "Epoch 48/50\n",
      "233/233 [==============================] - 20s 87ms/step - loss: 0.0012 - mae: 0.0240\n",
      "Epoch 49/50\n",
      "233/233 [==============================] - 20s 87ms/step - loss: 0.0012 - mae: 0.0240\n",
      "Epoch 50/50\n",
      "233/233 [==============================] - 20s 87ms/step - loss: 0.0012 - mae: 0.0235\n"
     ]
    }
   ],
   "source": [
    "model.compile(optimizer='adam', loss = 'mean_squared_error', metrics ='mae')\n",
    "history = model.fit(x_train, y_train,\n",
    "                    epochs = 50)"
   ]
  },
  {
   "cell_type": "code",
   "execution_count": 18,
   "metadata": {},
   "outputs": [],
   "source": [
    "model.save('LSTM_model.h5')"
   ]
  },
  {
   "cell_type": "code",
   "execution_count": 26,
   "metadata": {},
   "outputs": [],
   "source": [
    "past_100_days = data_training.tail(100)"
   ]
  },
  {
   "cell_type": "code",
   "execution_count": 27,
   "metadata": {},
   "outputs": [],
   "source": [
    "final_df = past_100_days.append(data_testing, ignore_index=True)"
   ]
  },
  {
   "cell_type": "code",
   "execution_count": 28,
   "metadata": {},
   "outputs": [],
   "source": [
    "input_data = scaler.fit_transform(final_df)"
   ]
  },
  {
   "cell_type": "code",
   "execution_count": 29,
   "metadata": {},
   "outputs": [],
   "source": [
    "x_test = []\n",
    "y_test = []\n",
    "\n",
    "for i in range(100, input_data.shape[0]):\n",
    "    x_test.append(input_data[i-100: i])\n",
    "    y_test.append(input_data[i, 0])"
   ]
  },
  {
   "cell_type": "code",
   "execution_count": 30,
   "metadata": {},
   "outputs": [
    {
     "name": "stdout",
     "output_type": "stream",
     "text": [
      "(3239, 100, 1)\n",
      "(3239,)\n"
     ]
    }
   ],
   "source": [
    "x_test, y_test = np.array(x_test), np.array(y_test)\n",
    "print(x_test.shape)\n",
    "print(y_test.shape)"
   ]
  },
  {
   "cell_type": "code",
   "execution_count": 31,
   "metadata": {},
   "outputs": [],
   "source": [
    "y_predicted = model.predict(x_test)"
   ]
  },
  {
   "cell_type": "code",
   "execution_count": 32,
   "metadata": {},
   "outputs": [
    {
     "data": {
      "text/plain": [
       "array([0.00042257])"
      ]
     },
     "execution_count": 32,
     "metadata": {},
     "output_type": "execute_result"
    }
   ],
   "source": [
    "scaler.scale_"
   ]
  },
  {
   "cell_type": "code",
   "execution_count": 33,
   "metadata": {},
   "outputs": [],
   "source": [
    "scale_factor = 1/0.00042257\n",
    "y_predicted = y_predicted * scale_factor\n",
    "y_test = y_test * scale_factor"
   ]
  },
  {
   "cell_type": "code",
   "execution_count": 34,
   "metadata": {},
   "outputs": [
    {
     "data": {
      "text/plain": [
       "<Figure size 1200x900 with 0 Axes>"
      ]
     },
     "metadata": {},
     "output_type": "display_data"
    },
    {
     "data": {
      "text/plain": [
       "<Figure size 1200x900 with 0 Axes>"
      ]
     },
     "metadata": {},
     "output_type": "display_data"
    },
    {
     "data": {
      "image/png": "[encoded data removed]",
      "text/plain": [
       "<Figure size 1200x600 with 1 Axes>"
      ]
     },
     "metadata": {},
     "output_type": "display_data"
    }
   ],
   "source": [
    "plt.figure(figsize=(12,6))\n",
    "plt.plot(y_test, 'b', label = 'Actual Price')\n",
    "plt.plot(y_predicted, 'r', label = 'Predicted Price')\n",
    "plt.xlabel('TIME')\n",
    "plt.ylabel('Price')\n",
    "plt.legend()\n",
    "plt.show()"
   ]
  },
  {
   "cell_type": "code",
   "execution_count": 24,
   "metadata": {},
   "outputs": [
    {
     "ename": "NameError",
     "evalue": "name 'test_label' is not defined",
     "output_type": "error",
     "traceback": [
      "\u001b[1;31m---------------------------------------------------------------------------\u001b[0m",
      "\u001b[1;31mNameError\u001b[0m                                 Traceback (most recent call last)",
      "\u001b[1;32m<ipython-input-24-e07b1981f3d8>\u001b[0m in \u001b[0;36m<module>\u001b[1;34m\u001b[0m\n\u001b[0;32m      1\u001b[0m \u001b[0mplt\u001b[0m\u001b[1;33m.\u001b[0m\u001b[0mfigure\u001b[0m\u001b[1;33m(\u001b[0m\u001b[0mfigsize\u001b[0m\u001b[1;33m=\u001b[0m\u001b[1;33m(\u001b[0m\u001b[1;36m12\u001b[0m\u001b[1;33m,\u001b[0m \u001b[1;36m9\u001b[0m\u001b[1;33m)\u001b[0m\u001b[1;33m)\u001b[0m\u001b[1;33m\u001b[0m\u001b[1;33m\u001b[0m\u001b[0m\n\u001b[1;32m----> 2\u001b[1;33m \u001b[0mplt\u001b[0m\u001b[1;33m.\u001b[0m\u001b[0mplot\u001b[0m\u001b[1;33m(\u001b[0m\u001b[0mtest_label\u001b[0m\u001b[1;33m,\u001b[0m \u001b[0mlabel\u001b[0m \u001b[1;33m=\u001b[0m \u001b[1;34m'actual'\u001b[0m\u001b[1;33m)\u001b[0m\u001b[1;33m\u001b[0m\u001b[1;33m\u001b[0m\u001b[0m\n\u001b[0m\u001b[0;32m      3\u001b[0m \u001b[0mplt\u001b[0m\u001b[1;33m.\u001b[0m\u001b[0mplot\u001b[0m\u001b[1;33m(\u001b[0m\u001b[0mpred\u001b[0m\u001b[1;33m,\u001b[0m \u001b[0mlabel\u001b[0m \u001b[1;33m=\u001b[0m \u001b[1;34m'prediction'\u001b[0m\u001b[1;33m)\u001b[0m\u001b[1;33m\u001b[0m\u001b[1;33m\u001b[0m\u001b[0m\n\u001b[0;32m      4\u001b[0m \u001b[0mplt\u001b[0m\u001b[1;33m.\u001b[0m\u001b[0mxlabel\u001b[0m\u001b[1;33m(\u001b[0m\u001b[1;34m'Date'\u001b[0m\u001b[1;33m,\u001b[0m \u001b[0mfontsize\u001b[0m\u001b[1;33m=\u001b[0m\u001b[1;36m18\u001b[0m\u001b[1;33m)\u001b[0m\u001b[1;33m\u001b[0m\u001b[1;33m\u001b[0m\u001b[0m\n\u001b[0;32m      5\u001b[0m \u001b[0mplt\u001b[0m\u001b[1;33m.\u001b[0m\u001b[0mylabel\u001b[0m\u001b[1;33m(\u001b[0m\u001b[1;34m'Close Price KRW (\\)'\u001b[0m\u001b[1;33m,\u001b[0m \u001b[0mfontsize\u001b[0m\u001b[1;33m=\u001b[0m\u001b[1;36m18\u001b[0m\u001b[1;33m)\u001b[0m\u001b[1;33m\u001b[0m\u001b[1;33m\u001b[0m\u001b[0m\n",
      "\u001b[1;31mNameError\u001b[0m: name 'test_label' is not defined"
     ]
    }
   ],
   "source": [
    "plt.figure(figsize=(12, 9))\n",
    "plt.plot(test_label, label = 'actual')\n",
    "plt.plot(pred, label = 'prediction')\n",
    "plt.xlabel('Date', fontsize=18)\n",
    "plt.ylabel('Close Price KRW (\\)', fontsize=18)\n",
    "plt.legend()\n",
    "plt.show()"
   ]
  }
 ],
 "metadata": {
  "kernelspec": {
   "display_name": "Python 3",
   "language": "python",
   "name": "python3"
  },
  "language_info": {
   "codemirror_mode": {
    "name": "ipython",
    "version": 3
   },
   "file_extension": ".py",
   "mimetype": "text/x-python",
   "name": "python",
   "nbconvert_exporter": "python",
   "pygments_lexer": "ipython3",
   "version": "3.7.10"
  }
 },
 "nbformat": 4,
 "nbformat_minor": 4
}
