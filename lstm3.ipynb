{
 "cells": [
  {
   "cell_type": "code",
   "execution_count": 8,
   "metadata": {},
   "outputs": [],
   "source": [
    "import numpy as np \n",
    "import pandas as pd \n",
    "import pandas_datareader as data\n",
    "import matplotlib.pyplot as plt\n",
    "%matplotlib inline "
   ]
  },
  {
   "cell_type": "code",
   "execution_count": 9,
   "metadata": {
    "scrolled": true
   },
   "outputs": [
    {
     "data": {
      "text/html": [
       "<div>\n",
       "<style scoped>\n",
       "    .dataframe tbody tr th:only-of-type {\n",
       "        vertical-align: middle;\n",
       "    }\n",
       "\n",
       "    .dataframe tbody tr th {\n",
       "        vertical-align: top;\n",
       "    }\n",
       "\n",
       "    .dataframe thead th {\n",
       "        text-align: right;\n",
       "    }\n",
       "</style>\n",
       "<table border=\"1\" class=\"dataframe\">\n",
       "  <thead>\n",
       "    <tr style=\"text-align: right;\">\n",
       "      <th></th>\n",
       "      <th>High</th>\n",
       "      <th>Low</th>\n",
       "      <th>Open</th>\n",
       "      <th>Close</th>\n",
       "      <th>Volume</th>\n",
       "      <th>Adj Close</th>\n",
       "    </tr>\n",
       "    <tr>\n",
       "      <th>Date</th>\n",
       "      <th></th>\n",
       "      <th></th>\n",
       "      <th></th>\n",
       "      <th></th>\n",
       "      <th></th>\n",
       "      <th></th>\n",
       "    </tr>\n",
       "  </thead>\n",
       "  <tbody>\n",
       "    <tr>\n",
       "      <th>2000-01-04</th>\n",
       "      <td>1066.180054</td>\n",
       "      <td>1016.590027</td>\n",
       "      <td>1028.329956</td>\n",
       "      <td>1059.040039</td>\n",
       "      <td>195900.0</td>\n",
       "      <td>1059.040039</td>\n",
       "    </tr>\n",
       "    <tr>\n",
       "      <th>2000-01-05</th>\n",
       "      <td>1026.520020</td>\n",
       "      <td>984.049988</td>\n",
       "      <td>1006.869995</td>\n",
       "      <td>986.309998</td>\n",
       "      <td>257700.0</td>\n",
       "      <td>986.309998</td>\n",
       "    </tr>\n",
       "    <tr>\n",
       "      <th>2000-01-06</th>\n",
       "      <td>1014.900024</td>\n",
       "      <td>953.500000</td>\n",
       "      <td>1013.950012</td>\n",
       "      <td>960.789978</td>\n",
       "      <td>203500.0</td>\n",
       "      <td>960.789978</td>\n",
       "    </tr>\n",
       "    <tr>\n",
       "      <th>2000-01-07</th>\n",
       "      <td>970.159973</td>\n",
       "      <td>930.840027</td>\n",
       "      <td>949.169983</td>\n",
       "      <td>948.650024</td>\n",
       "      <td>215700.0</td>\n",
       "      <td>948.650024</td>\n",
       "    </tr>\n",
       "    <tr>\n",
       "      <th>2000-01-10</th>\n",
       "      <td>994.940002</td>\n",
       "      <td>974.820007</td>\n",
       "      <td>979.669983</td>\n",
       "      <td>987.239990</td>\n",
       "      <td>240200.0</td>\n",
       "      <td>987.239990</td>\n",
       "    </tr>\n",
       "    <tr>\n",
       "      <th>...</th>\n",
       "      <td>...</td>\n",
       "      <td>...</td>\n",
       "      <td>...</td>\n",
       "      <td>...</td>\n",
       "      <td>...</td>\n",
       "      <td>...</td>\n",
       "    </tr>\n",
       "    <tr>\n",
       "      <th>2021-08-30</th>\n",
       "      <td>3164.870117</td>\n",
       "      <td>3132.770020</td>\n",
       "      <td>3160.870117</td>\n",
       "      <td>3144.189941</td>\n",
       "      <td>602900.0</td>\n",
       "      <td>3144.189941</td>\n",
       "    </tr>\n",
       "    <tr>\n",
       "      <th>2021-08-31</th>\n",
       "      <td>3199.889893</td>\n",
       "      <td>3130.300049</td>\n",
       "      <td>3144.489990</td>\n",
       "      <td>3199.270020</td>\n",
       "      <td>660500.0</td>\n",
       "      <td>3199.270020</td>\n",
       "    </tr>\n",
       "    <tr>\n",
       "      <th>2021-09-01</th>\n",
       "      <td>3215.129883</td>\n",
       "      <td>3185.800049</td>\n",
       "      <td>3195.669922</td>\n",
       "      <td>3207.020020</td>\n",
       "      <td>746700.0</td>\n",
       "      <td>3207.020020</td>\n",
       "    </tr>\n",
       "    <tr>\n",
       "      <th>2021-09-02</th>\n",
       "      <td>3204.010010</td>\n",
       "      <td>3171.780029</td>\n",
       "      <td>3198.030029</td>\n",
       "      <td>3175.850098</td>\n",
       "      <td>753900.0</td>\n",
       "      <td>3175.850098</td>\n",
       "    </tr>\n",
       "    <tr>\n",
       "      <th>2021-09-03</th>\n",
       "      <td>3203.080078</td>\n",
       "      <td>3181.639893</td>\n",
       "      <td>3189.709961</td>\n",
       "      <td>3201.060059</td>\n",
       "      <td>638300.0</td>\n",
       "      <td>3201.060059</td>\n",
       "    </tr>\n",
       "  </tbody>\n",
       "</table>\n",
       "<p>5346 rows × 6 columns</p>\n",
       "</div>"
      ],
      "text/plain": [
       "                   High          Low         Open        Close    Volume  \\\n",
       "Date                                                                       \n",
       "2000-01-04  1066.180054  1016.590027  1028.329956  1059.040039  195900.0   \n",
       "2000-01-05  1026.520020   984.049988  1006.869995   986.309998  257700.0   \n",
       "2000-01-06  1014.900024   953.500000  1013.950012   960.789978  203500.0   \n",
       "2000-01-07   970.159973   930.840027   949.169983   948.650024  215700.0   \n",
       "2000-01-10   994.940002   974.820007   979.669983   987.239990  240200.0   \n",
       "...                 ...          ...          ...          ...       ...   \n",
       "2021-08-30  3164.870117  3132.770020  3160.870117  3144.189941  602900.0   \n",
       "2021-08-31  3199.889893  3130.300049  3144.489990  3199.270020  660500.0   \n",
       "2021-09-01  3215.129883  3185.800049  3195.669922  3207.020020  746700.0   \n",
       "2021-09-02  3204.010010  3171.780029  3198.030029  3175.850098  753900.0   \n",
       "2021-09-03  3203.080078  3181.639893  3189.709961  3201.060059  638300.0   \n",
       "\n",
       "              Adj Close  \n",
       "Date                     \n",
       "2000-01-04  1059.040039  \n",
       "2000-01-05   986.309998  \n",
       "2000-01-06   960.789978  \n",
       "2000-01-07   948.650024  \n",
       "2000-01-10   987.239990  \n",
       "...                 ...  \n",
       "2021-08-30  3144.189941  \n",
       "2021-08-31  3199.270020  \n",
       "2021-09-01  3207.020020  \n",
       "2021-09-02  3175.850098  \n",
       "2021-09-03  3201.060059  \n",
       "\n",
       "[5346 rows x 6 columns]"
      ]
     },
     "execution_count": 9,
     "metadata": {},
     "output_type": "execute_result"
    }
   ],
   "source": [
    "df = data.DataReader('^KS11','yahoo', '2000-01-01')\n",
    "df"
   ]
  },
  {
   "cell_type": "code",
   "execution_count": 10,
   "metadata": {},
   "outputs": [
    {
     "data": {
      "text/html": [
       "<div>\n",
       "<style scoped>\n",
       "    .dataframe tbody tr th:only-of-type {\n",
       "        vertical-align: middle;\n",
       "    }\n",
       "\n",
       "    .dataframe tbody tr th {\n",
       "        vertical-align: top;\n",
       "    }\n",
       "\n",
       "    .dataframe thead th {\n",
       "        text-align: right;\n",
       "    }\n",
       "</style>\n",
       "<table border=\"1\" class=\"dataframe\">\n",
       "  <thead>\n",
       "    <tr style=\"text-align: right;\">\n",
       "      <th></th>\n",
       "      <th>Date</th>\n",
       "      <th>High</th>\n",
       "      <th>Low</th>\n",
       "      <th>Open</th>\n",
       "      <th>Close</th>\n",
       "      <th>Volume</th>\n",
       "      <th>Adj Close</th>\n",
       "    </tr>\n",
       "  </thead>\n",
       "  <tbody>\n",
       "    <tr>\n",
       "      <th>0</th>\n",
       "      <td>2000-01-04</td>\n",
       "      <td>1066.180054</td>\n",
       "      <td>1016.590027</td>\n",
       "      <td>1028.329956</td>\n",
       "      <td>1059.040039</td>\n",
       "      <td>195900.0</td>\n",
       "      <td>1059.040039</td>\n",
       "    </tr>\n",
       "    <tr>\n",
       "      <th>1</th>\n",
       "      <td>2000-01-05</td>\n",
       "      <td>1026.520020</td>\n",
       "      <td>984.049988</td>\n",
       "      <td>1006.869995</td>\n",
       "      <td>986.309998</td>\n",
       "      <td>257700.0</td>\n",
       "      <td>986.309998</td>\n",
       "    </tr>\n",
       "    <tr>\n",
       "      <th>2</th>\n",
       "      <td>2000-01-06</td>\n",
       "      <td>1014.900024</td>\n",
       "      <td>953.500000</td>\n",
       "      <td>1013.950012</td>\n",
       "      <td>960.789978</td>\n",
       "      <td>203500.0</td>\n",
       "      <td>960.789978</td>\n",
       "    </tr>\n",
       "    <tr>\n",
       "      <th>3</th>\n",
       "      <td>2000-01-07</td>\n",
       "      <td>970.159973</td>\n",
       "      <td>930.840027</td>\n",
       "      <td>949.169983</td>\n",
       "      <td>948.650024</td>\n",
       "      <td>215700.0</td>\n",
       "      <td>948.650024</td>\n",
       "    </tr>\n",
       "    <tr>\n",
       "      <th>4</th>\n",
       "      <td>2000-01-10</td>\n",
       "      <td>994.940002</td>\n",
       "      <td>974.820007</td>\n",
       "      <td>979.669983</td>\n",
       "      <td>987.239990</td>\n",
       "      <td>240200.0</td>\n",
       "      <td>987.239990</td>\n",
       "    </tr>\n",
       "  </tbody>\n",
       "</table>\n",
       "</div>"
      ],
      "text/plain": [
       "        Date         High          Low         Open        Close    Volume  \\\n",
       "0 2000-01-04  1066.180054  1016.590027  1028.329956  1059.040039  195900.0   \n",
       "1 2000-01-05  1026.520020   984.049988  1006.869995   986.309998  257700.0   \n",
       "2 2000-01-06  1014.900024   953.500000  1013.950012   960.789978  203500.0   \n",
       "3 2000-01-07   970.159973   930.840027   949.169983   948.650024  215700.0   \n",
       "4 2000-01-10   994.940002   974.820007   979.669983   987.239990  240200.0   \n",
       "\n",
       "     Adj Close  \n",
       "0  1059.040039  \n",
       "1   986.309998  \n",
       "2   960.789978  \n",
       "3   948.650024  \n",
       "4   987.239990  "
      ]
     },
     "execution_count": 10,
     "metadata": {},
     "output_type": "execute_result"
    }
   ],
   "source": [
    "df = df.reset_index()\n",
    "df.head()"
   ]
  },
  {
   "cell_type": "code",
   "execution_count": 11,
   "metadata": {},
   "outputs": [
    {
     "data": {
      "text/html": [
       "<div>\n",
       "<style scoped>\n",
       "    .dataframe tbody tr th:only-of-type {\n",
       "        vertical-align: middle;\n",
       "    }\n",
       "\n",
       "    .dataframe tbody tr th {\n",
       "        vertical-align: top;\n",
       "    }\n",
       "\n",
       "    .dataframe thead th {\n",
       "        text-align: right;\n",
       "    }\n",
       "</style>\n",
       "<table border=\"1\" class=\"dataframe\">\n",
       "  <thead>\n",
       "    <tr style=\"text-align: right;\">\n",
       "      <th></th>\n",
       "      <th>High</th>\n",
       "      <th>Low</th>\n",
       "      <th>Open</th>\n",
       "      <th>Close</th>\n",
       "      <th>Volume</th>\n",
       "    </tr>\n",
       "  </thead>\n",
       "  <tbody>\n",
       "    <tr>\n",
       "      <th>0</th>\n",
       "      <td>1066.180054</td>\n",
       "      <td>1016.590027</td>\n",
       "      <td>1028.329956</td>\n",
       "      <td>1059.040039</td>\n",
       "      <td>195900.0</td>\n",
       "    </tr>\n",
       "    <tr>\n",
       "      <th>1</th>\n",
       "      <td>1026.520020</td>\n",
       "      <td>984.049988</td>\n",
       "      <td>1006.869995</td>\n",
       "      <td>986.309998</td>\n",
       "      <td>257700.0</td>\n",
       "    </tr>\n",
       "    <tr>\n",
       "      <th>2</th>\n",
       "      <td>1014.900024</td>\n",
       "      <td>953.500000</td>\n",
       "      <td>1013.950012</td>\n",
       "      <td>960.789978</td>\n",
       "      <td>203500.0</td>\n",
       "    </tr>\n",
       "    <tr>\n",
       "      <th>3</th>\n",
       "      <td>970.159973</td>\n",
       "      <td>930.840027</td>\n",
       "      <td>949.169983</td>\n",
       "      <td>948.650024</td>\n",
       "      <td>215700.0</td>\n",
       "    </tr>\n",
       "    <tr>\n",
       "      <th>4</th>\n",
       "      <td>994.940002</td>\n",
       "      <td>974.820007</td>\n",
       "      <td>979.669983</td>\n",
       "      <td>987.239990</td>\n",
       "      <td>240200.0</td>\n",
       "    </tr>\n",
       "  </tbody>\n",
       "</table>\n",
       "</div>"
      ],
      "text/plain": [
       "          High          Low         Open        Close    Volume\n",
       "0  1066.180054  1016.590027  1028.329956  1059.040039  195900.0\n",
       "1  1026.520020   984.049988  1006.869995   986.309998  257700.0\n",
       "2  1014.900024   953.500000  1013.950012   960.789978  203500.0\n",
       "3   970.159973   930.840027   949.169983   948.650024  215700.0\n",
       "4   994.940002   974.820007   979.669983   987.239990  240200.0"
      ]
     },
     "execution_count": 11,
     "metadata": {},
     "output_type": "execute_result"
    }
   ],
   "source": [
    "df = df.drop(['Date','Adj Close'], axis = 1)\n",
    "df.head()"
   ]
  },
  {
   "cell_type": "code",
   "execution_count": 12,
   "metadata": {},
   "outputs": [
    {
     "data": {
      "text/plain": [
       "[<matplotlib.lines.Line2D at 0x1d0fd3ae488>]"
      ]
     },
     "execution_count": 12,
     "metadata": {},
     "output_type": "execute_result"
    },
    {
     "data": {
      "image/png": "[encoded data removed]",
      "text/plain": [
       "<Figure size 432x288 with 1 Axes>"
      ]
     },
     "metadata": {
      "needs_background": "light"
     },
     "output_type": "display_data"
    }
   ],
   "source": [
    "plt.plot(df.Close)"
   ]
  },
  {
   "cell_type": "code",
   "execution_count": 13,
   "metadata": {
    "scrolled": true
   },
   "outputs": [
    {
     "data": {
      "text/plain": [
       "0               NaN\n",
       "1               NaN\n",
       "2               NaN\n",
       "3               NaN\n",
       "4               NaN\n",
       "           ...     \n",
       "5341    3211.727292\n",
       "5342    3212.287393\n",
       "5343    3213.038794\n",
       "5344    3213.441394\n",
       "5345    3213.761194\n",
       "Name: Close, Length: 5346, dtype: float64"
      ]
     },
     "execution_count": 13,
     "metadata": {},
     "output_type": "execute_result"
    }
   ],
   "source": [
    "ma100 = df.Close.rolling(100).mean()\n",
    "ma100"
   ]
  },
  {
   "cell_type": "code",
   "execution_count": 14,
   "metadata": {},
   "outputs": [
    {
     "data": {
      "text/plain": [
       "[<matplotlib.lines.Line2D at 0x1d0fd7ebd48>]"
      ]
     },
     "execution_count": 14,
     "metadata": {},
     "output_type": "execute_result"
    },
    {
     "data": {
      "image/png": "[encoded data removed]",
      "text/plain": [
       "<Figure size 864x432 with 1 Axes>"
      ]
     },
     "metadata": {
      "needs_background": "light"
     },
     "output_type": "display_data"
    }
   ],
   "source": [
    "plt.figure(figsize = (12,6))\n",
    "plt.plot(df.Close)\n",
    "plt.plot(ma100, 'r')"
   ]
  },
  {
   "cell_type": "code",
   "execution_count": 15,
   "metadata": {},
   "outputs": [
    {
     "data": {
      "text/plain": [
       "0               NaN\n",
       "1               NaN\n",
       "2               NaN\n",
       "3               NaN\n",
       "4               NaN\n",
       "           ...     \n",
       "5341    3073.245995\n",
       "5342    3076.812994\n",
       "5343    3080.469994\n",
       "5344    3083.879894\n",
       "5345    3087.170044\n",
       "Name: Close, Length: 5346, dtype: float64"
      ]
     },
     "execution_count": 15,
     "metadata": {},
     "output_type": "execute_result"
    }
   ],
   "source": [
    "ma200 = df.Close.rolling(200).mean()\n",
    "ma200"
   ]
  },
  {
   "cell_type": "code",
   "execution_count": 16,
   "metadata": {},
   "outputs": [
    {
     "data": {
      "text/plain": [
       "[<matplotlib.lines.Line2D at 0x1d0fd80f2c8>]"
      ]
     },
     "execution_count": 16,
     "metadata": {},
     "output_type": "execute_result"
    },
    {
     "data": {
      "image/png": "[encoded data removed]",
      "text/plain": [
       "<Figure size 864x432 with 1 Axes>"
      ]
     },
     "metadata": {
      "needs_background": "light"
     },
     "output_type": "display_data"
    }
   ],
   "source": [
    "plt.figure(figsize = (12,6))\n",
    "plt.plot(df.Close)\n",
    "plt.plot(ma100, 'r')\n",
    "plt.plot(ma200, 'g')"
   ]
  },
  {
   "cell_type": "code",
   "execution_count": 17,
   "metadata": {},
   "outputs": [
    {
     "data": {
      "text/plain": [
       "(5346, 5)"
      ]
     },
     "execution_count": 17,
     "metadata": {},
     "output_type": "execute_result"
    }
   ],
   "source": [
    "df.shape"
   ]
  },
  {
   "cell_type": "code",
   "execution_count": 18,
   "metadata": {},
   "outputs": [
    {
     "name": "stdout",
     "output_type": "stream",
     "text": [
      "(3742, 1)\n",
      "(1604, 1)\n"
     ]
    }
   ],
   "source": [
    "data_training = pd.DataFrame(df['Close'][0:int(len(df)*0.70)])\n",
    "data_testing = pd.DataFrame(df['Close'][int(len(df)*0.70): int(len(df))])\n",
    "\n",
    "print(data_training.shape)\n",
    "print(data_testing.shape)"
   ]
  },
  {
   "cell_type": "code",
   "execution_count": 19,
   "metadata": {},
   "outputs": [
    {
     "data": {
      "text/html": [
       "<div>\n",
       "<style scoped>\n",
       "    .dataframe tbody tr th:only-of-type {\n",
       "        vertical-align: middle;\n",
       "    }\n",
       "\n",
       "    .dataframe tbody tr th {\n",
       "        vertical-align: top;\n",
       "    }\n",
       "\n",
       "    .dataframe thead th {\n",
       "        text-align: right;\n",
       "    }\n",
       "</style>\n",
       "<table border=\"1\" class=\"dataframe\">\n",
       "  <thead>\n",
       "    <tr style=\"text-align: right;\">\n",
       "      <th></th>\n",
       "      <th>Close</th>\n",
       "    </tr>\n",
       "  </thead>\n",
       "  <tbody>\n",
       "    <tr>\n",
       "      <th>0</th>\n",
       "      <td>1059.040039</td>\n",
       "    </tr>\n",
       "    <tr>\n",
       "      <th>1</th>\n",
       "      <td>986.309998</td>\n",
       "    </tr>\n",
       "    <tr>\n",
       "      <th>2</th>\n",
       "      <td>960.789978</td>\n",
       "    </tr>\n",
       "    <tr>\n",
       "      <th>3</th>\n",
       "      <td>948.650024</td>\n",
       "    </tr>\n",
       "    <tr>\n",
       "      <th>4</th>\n",
       "      <td>987.239990</td>\n",
       "    </tr>\n",
       "  </tbody>\n",
       "</table>\n",
       "</div>"
      ],
      "text/plain": [
       "         Close\n",
       "0  1059.040039\n",
       "1   986.309998\n",
       "2   960.789978\n",
       "3   948.650024\n",
       "4   987.239990"
      ]
     },
     "execution_count": 19,
     "metadata": {},
     "output_type": "execute_result"
    }
   ],
   "source": [
    "data_training.head()"
   ]
  },
  {
   "cell_type": "code",
   "execution_count": 20,
   "metadata": {},
   "outputs": [
    {
     "data": {
      "text/html": [
       "<div>\n",
       "<style scoped>\n",
       "    .dataframe tbody tr th:only-of-type {\n",
       "        vertical-align: middle;\n",
       "    }\n",
       "\n",
       "    .dataframe tbody tr th {\n",
       "        vertical-align: top;\n",
       "    }\n",
       "\n",
       "    .dataframe thead th {\n",
       "        text-align: right;\n",
       "    }\n",
       "</style>\n",
       "<table border=\"1\" class=\"dataframe\">\n",
       "  <thead>\n",
       "    <tr style=\"text-align: right;\">\n",
       "      <th></th>\n",
       "      <th>Close</th>\n",
       "    </tr>\n",
       "  </thead>\n",
       "  <tbody>\n",
       "    <tr>\n",
       "      <th>3742</th>\n",
       "      <td>1968.390015</td>\n",
       "    </tr>\n",
       "    <tr>\n",
       "      <th>3743</th>\n",
       "      <td>1976.119995</td>\n",
       "    </tr>\n",
       "    <tr>\n",
       "      <th>3744</th>\n",
       "      <td>1990.469971</td>\n",
       "    </tr>\n",
       "    <tr>\n",
       "      <th>3745</th>\n",
       "      <td>1993.079956</td>\n",
       "    </tr>\n",
       "    <tr>\n",
       "      <th>3746</th>\n",
       "      <td>1985.800049</td>\n",
       "    </tr>\n",
       "  </tbody>\n",
       "</table>\n",
       "</div>"
      ],
      "text/plain": [
       "            Close\n",
       "3742  1968.390015\n",
       "3743  1976.119995\n",
       "3744  1990.469971\n",
       "3745  1993.079956\n",
       "3746  1985.800049"
      ]
     },
     "execution_count": 20,
     "metadata": {},
     "output_type": "execute_result"
    }
   ],
   "source": [
    "data_testing.head()"
   ]
  },
  {
   "cell_type": "code",
   "execution_count": 21,
   "metadata": {},
   "outputs": [],
   "source": [
    "from sklearn.preprocessing import MinMaxScaler\n",
    "scaler = MinMaxScaler(feature_range=(0,1))"
   ]
  },
  {
   "cell_type": "code",
   "execution_count": 22,
   "metadata": {},
   "outputs": [
    {
     "data": {
      "text/plain": [
       "array([[0.33534828],\n",
       "       [0.29402909],\n",
       "       [0.27953072],\n",
       "       ...,\n",
       "       [0.84577891],\n",
       "       [0.84619362],\n",
       "       [0.84802294]])"
      ]
     },
     "execution_count": 22,
     "metadata": {},
     "output_type": "execute_result"
    }
   ],
   "source": [
    "data_training_array = scaler.fit_transform(data_training)\n",
    "data_training_array"
   ]
  },
  {
   "cell_type": "code",
   "execution_count": 23,
   "metadata": {},
   "outputs": [
    {
     "data": {
      "text/plain": [
       "(3742, 1)"
      ]
     },
     "execution_count": 23,
     "metadata": {},
     "output_type": "execute_result"
    }
   ],
   "source": [
    "data_training_array.shape"
   ]
  },
  {
   "cell_type": "code",
   "execution_count": 24,
   "metadata": {},
   "outputs": [],
   "source": [
    "x_train = []\n",
    "y_train = []\n",
    "\n",
    "for i in range(100, data_training_array.shape[0]):\n",
    "    x_train.append(data_training_array[i-100: i])\n",
    "    y_train.append(data_training_array[i, 0])\n",
    "    \n",
    "x_train, y_train = np.array(x_train), np.array(y_train)    "
   ]
  },
  {
   "cell_type": "code",
   "execution_count": 28,
   "metadata": {},
   "outputs": [
    {
     "data": {
      "text/plain": [
       "(3642, 100, 1)"
      ]
     },
     "execution_count": 28,
     "metadata": {},
     "output_type": "execute_result"
    }
   ],
   "source": [
    "x_train.shape"
   ]
  },
  {
   "cell_type": "code",
   "execution_count": 25,
   "metadata": {},
   "outputs": [],
   "source": [
    "from keras.layers import Dense, Dropout, LSTM\n",
    "from keras.models import Sequential"
   ]
  },
  {
   "cell_type": "code",
   "execution_count": 49,
   "metadata": {},
   "outputs": [],
   "source": [
    "model = Sequential()\n",
    "model.add(LSTM(units = 50, activation = 'relu', return_sequences = True,\n",
    "              input_shape = (x_train.shape[1], 1)))\n",
    "model.add(Dropout(0.2))\n",
    "\n",
    "\n",
    "model.add(LSTM(units = 60, activation = 'relu', return_sequences = True))\n",
    "model.add(Dropout(0.3))\n",
    "\n",
    "\n",
    "model.add(LSTM(units = 80, activation = 'relu', return_sequences = True))\n",
    "model.add(Dropout(0.4))\n",
    "\n",
    "model.add(LSTM(units = 120, activation = 'relu'))\n",
    "model.add(Dropout(0.5))\n",
    "\n",
    "model.add(Dense(units = 1))"
   ]
  },
  {
   "cell_type": "code",
   "execution_count": 50,
   "metadata": {},
   "outputs": [
    {
     "name": "stdout",
     "output_type": "stream",
     "text": [
      "Model: \"sequential_2\"\n",
      "_________________________________________________________________\n",
      "Layer (type)                 Output Shape              Param #   \n",
      "=================================================================\n",
      "lstm_8 (LSTM)                (None, 100, 50)           10400     \n",
      "_________________________________________________________________\n",
      "dropout_8 (Dropout)          (None, 100, 50)           0         \n",
      "_________________________________________________________________\n",
      "lstm_9 (LSTM)                (None, 100, 60)           26640     \n",
      "_________________________________________________________________\n",
      "dropout_9 (Dropout)          (None, 100, 60)           0         \n",
      "_________________________________________________________________\n",
      "lstm_10 (LSTM)               (None, 100, 80)           45120     \n",
      "_________________________________________________________________\n",
      "dropout_10 (Dropout)         (None, 100, 80)           0         \n",
      "_________________________________________________________________\n",
      "lstm_11 (LSTM)               (None, 120)               96480     \n",
      "_________________________________________________________________\n",
      "dropout_11 (Dropout)         (None, 120)               0         \n",
      "_________________________________________________________________\n",
      "dense_2 (Dense)              (None, 1)                 121       \n",
      "=================================================================\n",
      "Total params: 178,761\n",
      "Trainable params: 178,761\n",
      "Non-trainable params: 0\n",
      "_________________________________________________________________\n"
     ]
    }
   ],
   "source": [
    "model.summary()"
   ]
  },
  {
   "cell_type": "code",
   "execution_count": 51,
   "metadata": {},
   "outputs": [
    {
     "name": "stdout",
     "output_type": "stream",
     "text": [
      "Epoch 1/50\n",
      "114/114 [==============================] - 15s 105ms/step - loss: 0.0544\n",
      "Epoch 2/50\n",
      "114/114 [==============================] - 12s 104ms/step - loss: 0.0103\n",
      "Epoch 3/50\n",
      "114/114 [==============================] - 12s 104ms/step - loss: 0.0086\n",
      "Epoch 4/50\n",
      "114/114 [==============================] - 12s 104ms/step - loss: 0.0075\n",
      "Epoch 5/50\n",
      "114/114 [==============================] - 12s 104ms/step - loss: 0.0068\n",
      "Epoch 6/50\n",
      "114/114 [==============================] - 12s 109ms/step - loss: 0.0066\n",
      "Epoch 7/50\n",
      "114/114 [==============================] - 12s 109ms/step - loss: 0.0062\n",
      "Epoch 8/50\n",
      "114/114 [==============================] - 12s 106ms/step - loss: 0.0060\n",
      "Epoch 9/50\n",
      "114/114 [==============================] - 12s 103ms/step - loss: 0.0059\n",
      "Epoch 10/50\n",
      "114/114 [==============================] - 12s 104ms/step - loss: 0.0054\n",
      "Epoch 11/50\n",
      "114/114 [==============================] - 12s 103ms/step - loss: 0.0049\n",
      "Epoch 12/50\n",
      "114/114 [==============================] - 12s 107ms/step - loss: 0.00501s \n",
      "Epoch 13/50\n",
      "114/114 [==============================] - 12s 106ms/step - loss: 0.0048\n",
      "Epoch 14/50\n",
      "114/114 [==============================] - 12s 105ms/step - loss: 0.0048\n",
      "Epoch 15/50\n",
      "114/114 [==============================] - 12s 103ms/step - loss: 0.0041\n",
      "Epoch 16/50\n",
      "114/114 [==============================] - 12s 104ms/step - loss: 0.0041\n",
      "Epoch 17/50\n",
      "114/114 [==============================] - 12s 106ms/step - loss: 0.0039\n",
      "Epoch 18/50\n",
      "114/114 [==============================] - 12s 103ms/step - loss: 0.0037\n",
      "Epoch 19/50\n",
      "114/114 [==============================] - 12s 107ms/step - loss: 0.0037\n",
      "Epoch 20/50\n",
      "114/114 [==============================] - 12s 104ms/step - loss: 0.0033\n",
      "Epoch 21/50\n",
      "114/114 [==============================] - 12s 103ms/step - loss: 0.0035\n",
      "Epoch 22/50\n",
      "114/114 [==============================] - 12s 104ms/step - loss: 0.0032\n",
      "Epoch 23/50\n",
      "114/114 [==============================] - 12s 103ms/step - loss: 0.0031\n",
      "Epoch 24/50\n",
      "114/114 [==============================] - 12s 103ms/step - loss: 0.0032\n",
      "Epoch 25/50\n",
      "114/114 [==============================] - 12s 106ms/step - loss: 0.0031\n",
      "Epoch 26/50\n",
      "114/114 [==============================] - 12s 104ms/step - loss: 0.0031\n",
      "Epoch 27/50\n",
      "114/114 [==============================] - 12s 104ms/step - loss: 0.0029\n",
      "Epoch 28/50\n",
      "114/114 [==============================] - 13s 113ms/step - loss: 0.0030\n",
      "Epoch 29/50\n",
      "114/114 [==============================] - 12s 108ms/step - loss: 0.0030\n",
      "Epoch 30/50\n",
      "114/114 [==============================] - 12s 108ms/step - loss: 0.0029\n",
      "Epoch 31/50\n",
      "114/114 [==============================] - 12s 106ms/step - loss: 0.0026\n",
      "Epoch 32/50\n",
      "114/114 [==============================] - 12s 101ms/step - loss: 0.0029\n",
      "Epoch 33/50\n",
      "114/114 [==============================] - 12s 102ms/step - loss: 0.0026\n",
      "Epoch 34/50\n",
      "114/114 [==============================] - 13s 110ms/step - loss: 0.0028\n",
      "Epoch 35/50\n",
      "114/114 [==============================] - 12s 107ms/step - loss: 0.0026\n",
      "Epoch 36/50\n",
      "114/114 [==============================] - 12s 102ms/step - loss: 0.0025\n",
      "Epoch 37/50\n",
      "114/114 [==============================] - 12s 109ms/step - loss: 0.0027\n",
      "Epoch 38/50\n",
      "114/114 [==============================] - 12s 107ms/step - loss: 0.0027\n",
      "Epoch 39/50\n",
      "114/114 [==============================] - 12s 105ms/step - loss: 0.0027\n",
      "Epoch 40/50\n",
      "114/114 [==============================] - 12s 104ms/step - loss: 0.0027\n",
      "Epoch 41/50\n",
      "114/114 [==============================] - 12s 105ms/step - loss: 0.0028\n",
      "Epoch 42/50\n",
      "114/114 [==============================] - 12s 106ms/step - loss: 0.0026\n",
      "Epoch 43/50\n",
      "114/114 [==============================] - 12s 104ms/step - loss: 0.0026\n",
      "Epoch 44/50\n",
      "114/114 [==============================] - 12s 108ms/step - loss: 0.0026\n",
      "Epoch 45/50\n",
      "114/114 [==============================] - 12s 107ms/step - loss: 0.0025\n",
      "Epoch 46/50\n",
      "114/114 [==============================] - 12s 105ms/step - loss: 0.0026\n",
      "Epoch 47/50\n",
      "114/114 [==============================] - 12s 108ms/step - loss: 0.0026\n",
      "Epoch 48/50\n",
      "114/114 [==============================] - 12s 110ms/step - loss: 0.0026\n",
      "Epoch 49/50\n",
      "114/114 [==============================] - 12s 106ms/step - loss: 0.0024\n",
      "Epoch 50/50\n",
      "114/114 [==============================] - 12s 107ms/step - loss: 0.0026\n"
     ]
    },
    {
     "data": {
      "text/plain": [
       "<keras.callbacks.History at 0x1d0cb96cd48>"
      ]
     },
     "execution_count": 51,
     "metadata": {},
     "output_type": "execute_result"
    }
   ],
   "source": [
    "model.compile(optimizer='adam', loss = 'mean_squared_error')\n",
    "model.fit(x_train, y_train, epochs = 50)"
   ]
  },
  {
   "cell_type": "code",
   "execution_count": 52,
   "metadata": {},
   "outputs": [],
   "source": [
    "model.save('keras_model.h5')"
   ]
  },
  {
   "cell_type": "code",
   "execution_count": 53,
   "metadata": {},
   "outputs": [
    {
     "data": {
      "text/html": [
       "<div>\n",
       "<style scoped>\n",
       "    .dataframe tbody tr th:only-of-type {\n",
       "        vertical-align: middle;\n",
       "    }\n",
       "\n",
       "    .dataframe tbody tr th {\n",
       "        vertical-align: top;\n",
       "    }\n",
       "\n",
       "    .dataframe thead th {\n",
       "        text-align: right;\n",
       "    }\n",
       "</style>\n",
       "<table border=\"1\" class=\"dataframe\">\n",
       "  <thead>\n",
       "    <tr style=\"text-align: right;\">\n",
       "      <th></th>\n",
       "      <th>Close</th>\n",
       "    </tr>\n",
       "  </thead>\n",
       "  <tbody>\n",
       "    <tr>\n",
       "      <th>3742</th>\n",
       "      <td>1968.390015</td>\n",
       "    </tr>\n",
       "    <tr>\n",
       "      <th>3743</th>\n",
       "      <td>1976.119995</td>\n",
       "    </tr>\n",
       "    <tr>\n",
       "      <th>3744</th>\n",
       "      <td>1990.469971</td>\n",
       "    </tr>\n",
       "    <tr>\n",
       "      <th>3745</th>\n",
       "      <td>1993.079956</td>\n",
       "    </tr>\n",
       "    <tr>\n",
       "      <th>3746</th>\n",
       "      <td>1985.800049</td>\n",
       "    </tr>\n",
       "  </tbody>\n",
       "</table>\n",
       "</div>"
      ],
      "text/plain": [
       "            Close\n",
       "3742  1968.390015\n",
       "3743  1976.119995\n",
       "3744  1990.469971\n",
       "3745  1993.079956\n",
       "3746  1985.800049"
      ]
     },
     "execution_count": 53,
     "metadata": {},
     "output_type": "execute_result"
    }
   ],
   "source": [
    "data_testing.head()"
   ]
  },
  {
   "cell_type": "code",
   "execution_count": 54,
   "metadata": {},
   "outputs": [
    {
     "data": {
      "text/html": [
       "<div>\n",
       "<style scoped>\n",
       "    .dataframe tbody tr th:only-of-type {\n",
       "        vertical-align: middle;\n",
       "    }\n",
       "\n",
       "    .dataframe tbody tr th {\n",
       "        vertical-align: top;\n",
       "    }\n",
       "\n",
       "    .dataframe thead th {\n",
       "        text-align: right;\n",
       "    }\n",
       "</style>\n",
       "<table border=\"1\" class=\"dataframe\">\n",
       "  <thead>\n",
       "    <tr style=\"text-align: right;\">\n",
       "      <th></th>\n",
       "      <th>Close</th>\n",
       "    </tr>\n",
       "  </thead>\n",
       "  <tbody>\n",
       "    <tr>\n",
       "      <th>5246</th>\n",
       "      <td>3182.379883</td>\n",
       "    </tr>\n",
       "    <tr>\n",
       "      <th>5247</th>\n",
       "      <td>3194.330078</td>\n",
       "    </tr>\n",
       "    <tr>\n",
       "      <th>5248</th>\n",
       "      <td>3198.620117</td>\n",
       "    </tr>\n",
       "    <tr>\n",
       "      <th>5249</th>\n",
       "      <td>3198.840088</td>\n",
       "    </tr>\n",
       "    <tr>\n",
       "      <th>5250</th>\n",
       "      <td>3220.699951</td>\n",
       "    </tr>\n",
       "    <tr>\n",
       "      <th>...</th>\n",
       "      <td>...</td>\n",
       "    </tr>\n",
       "    <tr>\n",
       "      <th>5341</th>\n",
       "      <td>3144.189941</td>\n",
       "    </tr>\n",
       "    <tr>\n",
       "      <th>5342</th>\n",
       "      <td>3199.270020</td>\n",
       "    </tr>\n",
       "    <tr>\n",
       "      <th>5343</th>\n",
       "      <td>3207.020020</td>\n",
       "    </tr>\n",
       "    <tr>\n",
       "      <th>5344</th>\n",
       "      <td>3175.850098</td>\n",
       "    </tr>\n",
       "    <tr>\n",
       "      <th>5345</th>\n",
       "      <td>3201.060059</td>\n",
       "    </tr>\n",
       "  </tbody>\n",
       "</table>\n",
       "<p>100 rows × 1 columns</p>\n",
       "</div>"
      ],
      "text/plain": [
       "            Close\n",
       "5246  3182.379883\n",
       "5247  3194.330078\n",
       "5248  3198.620117\n",
       "5249  3198.840088\n",
       "5250  3220.699951\n",
       "...           ...\n",
       "5341  3144.189941\n",
       "5342  3199.270020\n",
       "5343  3207.020020\n",
       "5344  3175.850098\n",
       "5345  3201.060059\n",
       "\n",
       "[100 rows x 1 columns]"
      ]
     },
     "execution_count": 54,
     "metadata": {},
     "output_type": "execute_result"
    }
   ],
   "source": [
    "data_testing.tail(100)"
   ]
  },
  {
   "cell_type": "code",
   "execution_count": 55,
   "metadata": {},
   "outputs": [],
   "source": [
    "past_100_days = data_training.tail(100)"
   ]
  },
  {
   "cell_type": "code",
   "execution_count": 56,
   "metadata": {},
   "outputs": [],
   "source": [
    "final_df = past_100_days.append(data_testing, ignore_index=True)"
   ]
  },
  {
   "cell_type": "code",
   "execution_count": 57,
   "metadata": {},
   "outputs": [
    {
     "data": {
      "text/plain": [
       "<bound method NDFrame.head of             Close\n",
       "0     2035.640015\n",
       "1     2034.109985\n",
       "2     2031.640015\n",
       "3     2026.599976\n",
       "4     2020.089966\n",
       "...           ...\n",
       "1699  3144.189941\n",
       "1700  3199.270020\n",
       "1701  3207.020020\n",
       "1702  3175.850098\n",
       "1703  3201.060059\n",
       "\n",
       "[1704 rows x 1 columns]>"
      ]
     },
     "execution_count": 57,
     "metadata": {},
     "output_type": "execute_result"
    }
   ],
   "source": [
    "final_df.head"
   ]
  },
  {
   "cell_type": "code",
   "execution_count": 58,
   "metadata": {},
   "outputs": [],
   "source": [
    "input_data = scaler.fit_transform(final_df)"
   ]
  },
  {
   "cell_type": "code",
   "execution_count": 59,
   "metadata": {},
   "outputs": [
    {
     "data": {
      "text/plain": [
       "(1704, 1)"
      ]
     },
     "execution_count": 59,
     "metadata": {},
     "output_type": "execute_result"
    }
   ],
   "source": [
    "input_data.shape"
   ]
  },
  {
   "cell_type": "code",
   "execution_count": 60,
   "metadata": {},
   "outputs": [],
   "source": [
    "x_test = []\n",
    "y_test = []\n",
    "\n",
    "for i in range(100, input_data.shape[0]):\n",
    "    x_test.append(input_data[i-100: i])\n",
    "    y_test.append(input_data[i, 0])\n"
   ]
  },
  {
   "cell_type": "code",
   "execution_count": 61,
   "metadata": {},
   "outputs": [
    {
     "name": "stdout",
     "output_type": "stream",
     "text": [
      "(1604, 100, 1)\n",
      "(1604,)\n"
     ]
    }
   ],
   "source": [
    "x_test, y_test = np.array(x_test), np.array(y_test)\n",
    "print(x_test.shape)\n",
    "print(y_test.shape)"
   ]
  },
  {
   "cell_type": "code",
   "execution_count": 62,
   "metadata": {},
   "outputs": [],
   "source": [
    "y_predicted = model.predict(x_test)"
   ]
  },
  {
   "cell_type": "code",
   "execution_count": 63,
   "metadata": {},
   "outputs": [
    {
     "data": {
      "text/plain": [
       "(1604, 1)"
      ]
     },
     "execution_count": 63,
     "metadata": {},
     "output_type": "execute_result"
    }
   ],
   "source": [
    "y_predicted.shape"
   ]
  },
  {
   "cell_type": "code",
   "execution_count": 64,
   "metadata": {},
   "outputs": [
    {
     "data": {
      "text/plain": [
       "array([0.2764442 , 0.28062807, 0.28839501, ..., 0.94685455, 0.92998378,\n",
       "       0.94362871])"
      ]
     },
     "execution_count": 64,
     "metadata": {},
     "output_type": "execute_result"
    }
   ],
   "source": [
    "y_test"
   ]
  },
  {
   "cell_type": "code",
   "execution_count": 65,
   "metadata": {},
   "outputs": [
    {
     "data": {
      "text/plain": [
       "array([[0.34179726],\n",
       "       [0.34239316],\n",
       "       [0.3436028 ],\n",
       "       ...,\n",
       "       [0.84938526],\n",
       "       [0.8546208 ],\n",
       "       [0.8600677 ]], dtype=float32)"
      ]
     },
     "execution_count": 65,
     "metadata": {},
     "output_type": "execute_result"
    }
   ],
   "source": [
    "y_predicted"
   ]
  },
  {
   "cell_type": "code",
   "execution_count": 66,
   "metadata": {},
   "outputs": [
    {
     "data": {
      "text/plain": [
       "array([0.00054125])"
      ]
     },
     "execution_count": 66,
     "metadata": {},
     "output_type": "execute_result"
    }
   ],
   "source": [
    "scaler.scale_"
   ]
  },
  {
   "cell_type": "code",
   "execution_count": 67,
   "metadata": {},
   "outputs": [],
   "source": [
    "scale_factor = 1/0.00054125\n",
    "y_predicted = y_predicted * scale_factor\n",
    "y_test = y_test * scale_factor"
   ]
  },
  {
   "cell_type": "code",
   "execution_count": 68,
   "metadata": {},
   "outputs": [
    {
     "data": {
      "image/png": "[encoded data removed]",
      "text/plain": [
       "<Figure size 864x432 with 1 Axes>"
      ]
     },
     "metadata": {
      "needs_background": "light"
     },
     "output_type": "display_data"
    }
   ],
   "source": [
    "plt.figure(figsize=(12,6))\n",
    "plt.plot(y_test, 'b', label = 'Actual Price')\n",
    "plt.plot(y_predicted, 'r', label = 'Predicted Price')\n",
    "plt.xlabel('TIME')\n",
    "plt.ylabel('Price')\n",
    "plt.legend()\n",
    "plt.show()"
   ]
  }
 ],
 "metadata": {
  "kernelspec": {
   "display_name": "Python 3",
   "language": "python",
   "name": "python3"
  },
  "language_info": {
   "codemirror_mode": {
    "name": "ipython",
    "version": 3
   },
   "file_extension": ".py",
   "mimetype": "text/x-python",
   "name": "python",
   "nbconvert_exporter": "python",
   "pygments_lexer": "ipython3",
   "version": "3.7.10"
  }
 },
 "nbformat": 4,
 "nbformat_minor": 4
}
