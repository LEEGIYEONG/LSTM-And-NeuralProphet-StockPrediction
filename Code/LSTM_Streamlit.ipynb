{
 "cells": [
  {
   "cell_type": "code",
   "execution_count": 1,
   "metadata": {},
   "outputs": [],
   "source": [
    "import numpy as np \n",
    "import pandas as pd \n",
    "import FinanceDataReader as fdr\n",
    "import matplotlib.pyplot as plt \n",
    "\n",
    "import datetime \n",
    "\n",
    "import torch \n",
    "import torch.nn as nn \n",
    "from torch.autograd import Variable \n",
    "\n",
    "import torch.optim as optim \n",
    "from torch.utils.data import Dataset, DataLoader"
   ]
  },
  {
   "cell_type": "code",
   "execution_count": 3,
   "metadata": {},
   "outputs": [
    {
     "data": {
      "text/plain": [
       "<AxesSubplot:xlabel='Date'>"
      ]
     },
     "execution_count": 3,
     "metadata": {},
     "output_type": "execute_result"
    }
   ],
   "source": [
    "df = fdr.DataReader('KS11','2000')\n",
    "df['Close'].plot()"
   ]
  },
  {
   "cell_type": "code",
   "execution_count": 4,
   "metadata": {},
   "outputs": [
    {
     "name": "stdout",
     "output_type": "stream",
     "text": [
      "              Close     Open     High      Low\n",
      "Date                                          \n",
      "2000-01-04  1059.04  1028.33  1066.18  1016.59\n",
      "2000-01-05   986.31  1006.87  1026.52   984.05\n",
      "2000-01-06   960.79  1013.95  1014.90   953.50\n",
      "2000-01-07   948.65   949.17   970.16   930.84\n",
      "2000-01-10   987.24   979.67   994.94   965.02\n",
      "...             ...      ...      ...      ...\n",
      "2021-10-05  2962.17  2998.17  2998.17  2940.59\n",
      "2021-10-06  2908.31  2986.06  2993.47  2908.30\n",
      "2021-10-07  2959.46  2936.87  2961.53  2927.60\n",
      "2021-10-08  2956.30  2977.82  2978.08  2949.01\n",
      "2021-10-12  2916.38  2950.22  2950.94  2901.51\n",
      "\n",
      "[5376 rows x 4 columns]\n",
      "            Change\n",
      "Date              \n",
      "2000-01-04  0.0301\n",
      "2000-01-05 -0.0687\n",
      "2000-01-06 -0.0259\n",
      "2000-01-07 -0.0126\n",
      "2000-01-10  0.0407\n",
      "...            ...\n",
      "2021-10-05 -0.0189\n",
      "2021-10-06 -0.0182\n",
      "2021-10-07  0.0176\n",
      "2021-10-08 -0.0011\n",
      "2021-10-12 -0.0135\n",
      "\n",
      "[5376 rows x 1 columns]\n"
     ]
    }
   ],
   "source": [
    "X = df.drop(columns=['Volume','Change'])\n",
    "y = df.iloc[:, 5:6]\n",
    "\n",
    "print(X)\n",
    "print(y)"
   ]
  },
  {
   "cell_type": "code",
   "execution_count": 5,
   "metadata": {},
   "outputs": [
    {
     "name": "stdout",
     "output_type": "stream",
     "text": [
      "(3763, 1)\n",
      "(1613, 1)\n"
     ]
    }
   ],
   "source": [
    "data_training = pd.DataFrame(df['Close'][0:int(len(df)*0.70)])\n",
    "data_testing = pd.DataFrame(df['Close'][int(len(df)*0.70): int(len(df))])\n",
    "\n",
    "print(data_training.shape)\n",
    "print(data_testing.shape)"
   ]
  },
  {
   "cell_type": "code",
   "execution_count": 6,
   "metadata": {},
   "outputs": [],
   "source": [
    "from sklearn.preprocessing import MinMaxScaler\n",
    "scaler = MinMaxScaler(feature_range=(0,1))"
   ]
  },
  {
   "cell_type": "code",
   "execution_count": 8,
   "metadata": {},
   "outputs": [
    {
     "data": {
      "text/plain": [
       "array([[0.33534826],\n",
       "       [0.29402909],\n",
       "       [0.27953074],\n",
       "       ...,\n",
       "       [0.88608681],\n",
       "       [0.89144984],\n",
       "       [0.89108056]])"
      ]
     },
     "execution_count": 8,
     "metadata": {},
     "output_type": "execute_result"
    }
   ],
   "source": [
    "data_training_array = scaler.fit_transform(data_training)\n",
    "data_training_array"
   ]
  },
  {
   "cell_type": "code",
   "execution_count": 9,
   "metadata": {},
   "outputs": [],
   "source": [
    "x_train = []\n",
    "y_train = []\n",
    "\n",
    "for i in range(100, data_training_array.shape[0]):\n",
    "    x_train.append(data_training_array[i-100: i])\n",
    "    y_train.append(data_training_array[i, 0])\n",
    "    \n",
    "x_train, y_train = np.array(x_train), np.array(y_train)  "
   ]
  },
  {
   "cell_type": "code",
   "execution_count": 10,
   "metadata": {},
   "outputs": [],
   "source": [
    "from keras.layers import Dense, Dropout, LSTM\n",
    "from keras.models import Sequential"
   ]
  },
  {
   "cell_type": "code",
   "execution_count": 11,
   "metadata": {},
   "outputs": [],
   "source": [
    "model = Sequential()\n",
    "model.add(LSTM(units = 50, activation = 'tanh', return_sequences = True,\n",
    "              input_shape = (x_train.shape[1], 1)))\n",
    "model.add(Dropout(0.2))\n",
    "\n",
    "\n",
    "model.add(LSTM(units = 60, activation = 'tanh', return_sequences = True))\n",
    "model.add(Dropout(0.3))\n",
    "\n",
    "\n",
    "model.add(LSTM(units = 80, activation = 'tanh', return_sequences = True))\n",
    "model.add(Dropout(0.4))\n",
    "\n",
    "model.add(LSTM(units = 120, activation = 'tanh'))\n",
    "model.add(Dropout(0.5))\n",
    "\n",
    "model.add(Dense(units = 1))"
   ]
  },
  {
   "cell_type": "code",
   "execution_count": 12,
   "metadata": {},
   "outputs": [
    {
     "name": "stdout",
     "output_type": "stream",
     "text": [
      "Model: \"sequential\"\n",
      "_________________________________________________________________\n",
      "Layer (type)                 Output Shape              Param #   \n",
      "=================================================================\n",
      "lstm (LSTM)                  (None, 100, 50)           10400     \n",
      "_________________________________________________________________\n",
      "dropout (Dropout)            (None, 100, 50)           0         \n",
      "_________________________________________________________________\n",
      "lstm_1 (LSTM)                (None, 100, 60)           26640     \n",
      "_________________________________________________________________\n",
      "dropout_1 (Dropout)          (None, 100, 60)           0         \n",
      "_________________________________________________________________\n",
      "lstm_2 (LSTM)                (None, 100, 80)           45120     \n",
      "_________________________________________________________________\n",
      "dropout_2 (Dropout)          (None, 100, 80)           0         \n",
      "_________________________________________________________________\n",
      "lstm_3 (LSTM)                (None, 120)               96480     \n",
      "_________________________________________________________________\n",
      "dropout_3 (Dropout)          (None, 120)               0         \n",
      "_________________________________________________________________\n",
      "dense (Dense)                (None, 1)                 121       \n",
      "=================================================================\n",
      "Total params: 178,761\n",
      "Trainable params: 178,761\n",
      "Non-trainable params: 0\n",
      "_________________________________________________________________\n"
     ]
    }
   ],
   "source": [
    "model.summary()"
   ]
  },
  {
   "cell_type": "code",
   "execution_count": 13,
   "metadata": {
    "scrolled": true
   },
   "outputs": [
    {
     "name": "stdout",
     "output_type": "stream",
     "text": [
      "Epoch 1/50\n",
      "115/115 [==============================] - 15s 97ms/step - loss: 0.0180 - mae: 0.0872\n",
      "Epoch 2/50\n",
      "115/115 [==============================] - 11s 96ms/step - loss: 0.0069 - mae: 0.0602\n",
      "Epoch 3/50\n",
      "115/115 [==============================] - 11s 96ms/step - loss: 0.0058 - mae: 0.0550\n",
      "Epoch 4/50\n",
      "115/115 [==============================] - 11s 96ms/step - loss: 0.0049 - mae: 0.0509\n",
      "Epoch 5/50\n",
      "115/115 [==============================] - 11s 96ms/step - loss: 0.0048 - mae: 0.0502\n",
      "Epoch 6/50\n",
      "115/115 [==============================] - 11s 95ms/step - loss: 0.0050 - mae: 0.0514\n",
      "Epoch 7/50\n",
      "115/115 [==============================] - 11s 97ms/step - loss: 0.0041 - mae: 0.0462\n",
      "Epoch 8/50\n",
      "115/115 [==============================] - 11s 96ms/step - loss: 0.0043 - mae: 0.0481\n",
      "Epoch 9/50\n",
      "115/115 [==============================] - 11s 96ms/step - loss: 0.0038 - mae: 0.0449\n",
      "Epoch 10/50\n",
      "115/115 [==============================] - 11s 95ms/step - loss: 0.0037 - mae: 0.0443\n",
      "Epoch 11/50\n",
      "115/115 [==============================] - 11s 96ms/step - loss: 0.0037 - mae: 0.0445\n",
      "Epoch 12/50\n",
      "115/115 [==============================] - 11s 96ms/step - loss: 0.0034 - mae: 0.0428\n",
      "Epoch 13/50\n",
      "115/115 [==============================] - 11s 96ms/step - loss: 0.0033 - mae: 0.0421\n",
      "Epoch 14/50\n",
      "115/115 [==============================] - 11s 95ms/step - loss: 0.0030 - mae: 0.0405\n",
      "Epoch 15/50\n",
      "115/115 [==============================] - 11s 97ms/step - loss: 0.0030 - mae: 0.0404\n",
      "Epoch 16/50\n",
      "115/115 [==============================] - 11s 96ms/step - loss: 0.0027 - mae: 0.0383\n",
      "Epoch 17/50\n",
      "115/115 [==============================] - 11s 96ms/step - loss: 0.0027 - mae: 0.0387\n",
      "Epoch 18/50\n",
      "115/115 [==============================] - 11s 97ms/step - loss: 0.0028 - mae: 0.0394\n",
      "Epoch 19/50\n",
      "115/115 [==============================] - 11s 97ms/step - loss: 0.0027 - mae: 0.0384\n",
      "Epoch 20/50\n",
      "115/115 [==============================] - 11s 96ms/step - loss: 0.0025 - mae: 0.0371\n",
      "Epoch 21/50\n",
      "115/115 [==============================] - 11s 96ms/step - loss: 0.0024 - mae: 0.0367\n",
      "Epoch 22/50\n",
      "115/115 [==============================] - 11s 96ms/step - loss: 0.0024 - mae: 0.0369\n",
      "Epoch 23/50\n",
      "115/115 [==============================] - 11s 96ms/step - loss: 0.0023 - mae: 0.0366\n",
      "Epoch 24/50\n",
      "115/115 [==============================] - 11s 96ms/step - loss: 0.0022 - mae: 0.0352\n",
      "Epoch 25/50\n",
      "115/115 [==============================] - 11s 95ms/step - loss: 0.0023 - mae: 0.0369\n",
      "Epoch 26/50\n",
      "115/115 [==============================] - 11s 95ms/step - loss: 0.0021 - mae: 0.0353 2s - \n",
      "Epoch 27/50\n",
      "115/115 [==============================] - 11s 95ms/step - loss: 0.0023 - mae: 0.0358\n",
      "Epoch 28/50\n",
      "115/115 [==============================] - 11s 96ms/step - loss: 0.0021 - mae: 0.0349\n",
      "Epoch 29/50\n",
      "115/115 [==============================] - 11s 96ms/step - loss: 0.0021 - mae: 0.0352\n",
      "Epoch 30/50\n",
      "115/115 [==============================] - 11s 96ms/step - loss: 0.0020 - mae: 0.0342\n",
      "Epoch 31/50\n",
      "115/115 [==============================] - 11s 96ms/step - loss: 0.0019 - mae: 0.0332\n",
      "Epoch 32/50\n",
      "115/115 [==============================] - 11s 97ms/step - loss: 0.0018 - mae: 0.0328\n",
      "Epoch 33/50\n",
      "115/115 [==============================] - 11s 97ms/step - loss: 0.0019 - mae: 0.0340\n",
      "Epoch 34/50\n",
      "115/115 [==============================] - 11s 96ms/step - loss: 0.0018 - mae: 0.0323\n",
      "Epoch 35/50\n",
      "115/115 [==============================] - 11s 96ms/step - loss: 0.0019 - mae: 0.0332\n",
      "Epoch 36/50\n",
      "115/115 [==============================] - 11s 96ms/step - loss: 0.0018 - mae: 0.0329\n",
      "Epoch 37/50\n",
      "115/115 [==============================] - 11s 96ms/step - loss: 0.0017 - mae: 0.0320\n",
      "Epoch 38/50\n",
      "115/115 [==============================] - 11s 96ms/step - loss: 0.0019 - mae: 0.0331\n",
      "Epoch 39/50\n",
      "115/115 [==============================] - 11s 98ms/step - loss: 0.0018 - mae: 0.0328\n",
      "Epoch 40/50\n",
      "115/115 [==============================] - 11s 96ms/step - loss: 0.0018 - mae: 0.0320 2s \n",
      "Epoch 41/50\n",
      "115/115 [==============================] - 11s 98ms/step - loss: 0.0024 - mae: 0.0375\n",
      "Epoch 42/50\n",
      "115/115 [==============================] - 11s 96ms/step - loss: 0.0018 - mae: 0.0324\n",
      "Epoch 43/50\n",
      "115/115 [==============================] - 11s 97ms/step - loss: 0.0019 - mae: 0.0337\n",
      "Epoch 44/50\n",
      "115/115 [==============================] - 11s 97ms/step - loss: 0.0018 - mae: 0.0326\n",
      "Epoch 45/50\n",
      "115/115 [==============================] - 11s 97ms/step - loss: 0.0017 - mae: 0.0312\n",
      "Epoch 46/50\n",
      "115/115 [==============================] - 11s 96ms/step - loss: 0.0016 - mae: 0.0304\n",
      "Epoch 47/50\n",
      "115/115 [==============================] - 11s 96ms/step - loss: 0.0017 - mae: 0.0320\n",
      "Epoch 48/50\n",
      "115/115 [==============================] - 11s 96ms/step - loss: 0.0016 - mae: 0.0306\n",
      "Epoch 49/50\n",
      "115/115 [==============================] - 11s 96ms/step - loss: 0.0016 - mae: 0.0306\n",
      "Epoch 50/50\n",
      "115/115 [==============================] - 11s 97ms/step - loss: 0.0017 - mae: 0.0315\n"
     ]
    }
   ],
   "source": [
    "model.compile(optimizer='adam', loss = 'mean_squared_error', metrics ='mae')\n",
    "history = model.fit(x_train, y_train,\n",
    "                    epochs = 50,batch_size=32)"
   ]
  },
  {
   "cell_type": "code",
   "execution_count": 14,
   "metadata": {},
   "outputs": [],
   "source": [
    "model.save('LSTM_model.h5')"
   ]
  },
  {
   "cell_type": "code",
   "execution_count": 15,
   "metadata": {},
   "outputs": [],
   "source": [
    "past_100_days = data_training.tail(100)"
   ]
  },
  {
   "cell_type": "code",
   "execution_count": 17,
   "metadata": {},
   "outputs": [],
   "source": [
    "final_df = past_100_days.append(data_testing, ignore_index=True)"
   ]
  },
  {
   "cell_type": "code",
   "execution_count": 18,
   "metadata": {},
   "outputs": [],
   "source": [
    "input_data = scaler.fit_transform(final_df)"
   ]
  },
  {
   "cell_type": "code",
   "execution_count": 19,
   "metadata": {},
   "outputs": [],
   "source": [
    "x_test = []\n",
    "y_test = []\n",
    "\n",
    "for i in range(100, input_data.shape[0]):\n",
    "    x_test.append(input_data[i-100: i])\n",
    "    y_test.append(input_data[i, 0])"
   ]
  },
  {
   "cell_type": "code",
   "execution_count": 20,
   "metadata": {},
   "outputs": [
    {
     "name": "stdout",
     "output_type": "stream",
     "text": [
      "(1613, 100, 1)\n",
      "(1613,)\n"
     ]
    }
   ],
   "source": [
    "x_test, y_test = np.array(x_test), np.array(y_test)\n",
    "print(x_test.shape)\n",
    "print(y_test.shape)"
   ]
  },
  {
   "cell_type": "code",
   "execution_count": 21,
   "metadata": {},
   "outputs": [],
   "source": [
    "y_predicted = model.predict(x_test)"
   ]
  },
  {
   "cell_type": "code",
   "execution_count": 22,
   "metadata": {},
   "outputs": [
    {
     "data": {
      "text/plain": [
       "array([0.00054125])"
      ]
     },
     "execution_count": 22,
     "metadata": {},
     "output_type": "execute_result"
    }
   ],
   "source": [
    "scaler.scale_"
   ]
  },
  {
   "cell_type": "code",
   "execution_count": 23,
   "metadata": {},
   "outputs": [],
   "source": [
    "scale_factor = 1/0.00042257\n",
    "y_predicted = y_predicted * scale_factor\n",
    "y_test = y_test * scale_factor"
   ]
  },
  {
   "cell_type": "code",
   "execution_count": 25,
   "metadata": {},
   "outputs": [
    {
     "data": {
      "image/png": "[encoded data removed]",
      "text/plain": [
       "<Figure size 1200x600 with 1 Axes>"
      ]
     },
     "metadata": {},
     "output_type": "display_data"
    }
   ],
   "source": [
    "plt.figure(figsize=(12,6))\n",
    "plt.plot(y_test, 'b', label = 'Actual Price')\n",
    "plt.plot(y_predicted, 'r', label = 'Predicted Price')\n",
    "plt.xlabel('TIME')\n",
    "plt.ylabel('Price')\n",
    "plt.legend()\n",
    "plt.show()"
   ]
  }
 ],
 "metadata": {
  "kernelspec": {
   "display_name": "Python 3",
   "language": "python",
   "name": "python3"
  },
  "language_info": {
   "codemirror_mode": {
    "name": "ipython",
    "version": 3
   },
   "file_extension": ".py",
   "mimetype": "text/x-python",
   "name": "python",
   "nbconvert_exporter": "python",
   "pygments_lexer": "ipython3",
   "version": "3.7.10"
  }
 },
 "nbformat": 4,
 "nbformat_minor": 4
}
